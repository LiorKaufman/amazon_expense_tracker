{
 "cells": [
  {
   "attachments": {},
   "cell_type": "markdown",
   "metadata": {},
   "source": [
    "### Amazon personal expense tracker \n",
    "This Python snippet is initializing the necessary libraries and environment variables for our Amazon scraper. It leverages `dotenv` to load sensitive data like Amazon email (`AZ_USER`) and password (`AZ_PASSWORD`) from an .env file. This approach securely keeps sensitive data out of the script. Additionally, it sets up a Chrome `webdriver` via `selenium`, using an option to ensure the page loads normally, and clears the \"filtered_elements.html\" file to ensure a clean start for data collection."
   ]
  },
  {
   "cell_type": "code",
   "execution_count": 34,
   "metadata": {},
   "outputs": [],
   "source": [
    "import os\n",
    "import pandas as pd\n",
    "from dotenv import load_dotenv\n",
    "from selenium import webdriver\n",
    "from selenium.webdriver.chrome.options import Options\n",
    "from selenium.webdriver.common.by import By\n",
    "from selenium.webdriver.support.ui import WebDriverWait\n",
    "from selenium.webdriver.support.ui import Select\n",
    "from selenium.common.exceptions import NoSuchElementException\n",
    "from bs4 import BeautifulSoup\n",
    "import requests\n",
    "import numpy as np\n",
    "\n",
    "load_dotenv()\n",
    "email = os.getenv(\"AZ_USER\")\n",
    "password = os.getenv(\"AZ_PASSWORD\")\n",
    "year = \"2023\"\n",
    "option = Options()\n",
    "option.page_load_strategy = 'normal'\n",
    "\n",
    "\n",
    "# Clean up file\n",
    "with open(\"filtered_elements.html\", \"w\") as f:\n",
    "    pass"
   ]
  },
  {
   "attachments": {},
   "cell_type": "markdown",
   "metadata": {},
   "source": [
    "The class AmazonScraper is a comprehensive solution for navigating and scraping order data from an Amazon account. It includes methods for user login, navigating to order pages, saving page data, and parsing product information such as title, price, and categories into a Pandas DataFrame. Additionally, it handles scenarios where the next button or product details might not be available, managing such exceptions to ensure smooth execution."
   ]
  },
  {
   "cell_type": "code",
   "execution_count": 6,
   "metadata": {},
   "outputs": [],
   "source": [
    "def to_float(x):\n",
    "    try:\n",
    "        return float(x)\n",
    "    except ValueError:\n",
    "        return np.nan\n",
    "\n",
    "\n",
    "class AmazonScraper:\n",
    "    def __init__(self, email, password, year, options):\n",
    "        self.email = email\n",
    "        self.password = password\n",
    "        self.year = year\n",
    "        self.driver = webdriver.Chrome(options=options)\n",
    "\n",
    "    def save_screenshot(self, filename):\n",
    "        self.driver.save_screenshot(filename)\n",
    "\n",
    "    def wait_for(self, seconds):\n",
    "        WebDriverWait(self.driver, seconds)\n",
    "\n",
    "    def login(self):\n",
    "        print(\"Starting login process\")\n",
    "        self.navigate_to_login_page()\n",
    "        self.wait_for(2)\n",
    "        print(\"Entering email\")\n",
    "        self.enter_email()\n",
    "        self.save_screenshot(\"email_entered.png\")\n",
    "        self.click_continue()\n",
    "        self.wait_for(3)\n",
    "        print(\"Entering password\")\n",
    "        self.enter_password()\n",
    "        self.save_screenshot(\"password_entered.png\")\n",
    "        print(\"Sign in\")\n",
    "        self.click_sign_in()\n",
    "        input(\"wait for human to complete captcha\")\n",
    "        self.wait_for(10)\n",
    "        self.save_screenshot(\"logged_in.png\")\n",
    "        self.wait_for(10)\n",
    "        self.save_screenshot(\"loged_2.png\")\n",
    "\n",
    "    def get_orders(self):\n",
    "        print(\"Starting to get orders\")\n",
    "        self.click_orders()\n",
    "        self.wait_for(8)\n",
    "        self.save_screenshot(\"order_page.png\")\n",
    "        print(\"Selecting year\")\n",
    "        self.click_year_select_filter()\n",
    "        self.wait_for(5)\n",
    "        self.save_screenshot(\"select_pressed.png\")\n",
    "        page = 0\n",
    "        while True:\n",
    "            page += 1\n",
    "            print(f\"scraping orders page {page}\")\n",
    "            self.save_ordered_products()\n",
    "            self.wait_for(2)\n",
    "            try:\n",
    "                next_button = self.driver.find_element(\n",
    "                    By.CSS_SELECTOR, '.a-last a')\n",
    "                next_button.click()\n",
    "            except NoSuchElementException:\n",
    "                break\n",
    "\n",
    "    def get_title(self, soup):\n",
    "        try:\n",
    "            # Outer Tag Object\n",
    "            title = soup.find(\"span\", attrs={\"id\": \"productTitle\"})\n",
    "\n",
    "            # Inner NavigatableString Object\n",
    "            title_value = title.text\n",
    "\n",
    "            # Title as a string value\n",
    "            title_string = title_value.strip()\n",
    "\n",
    "        except AttributeError:\n",
    "            title_string = \"\"\n",
    "\n",
    "        return title_string\n",
    "\n",
    "    def get_price(self, soup):\n",
    "        try:\n",
    "            price = soup.find(\n",
    "                \"span\", attrs={\"id\": \"priceblock_ourprice\"}\n",
    "            ).string.strip()\n",
    "        except AttributeError:\n",
    "            try:\n",
    "                # If there is some deal price\n",
    "                price = soup.find(\n",
    "                    \"span\", attrs={\"class\": \"a-offscreen\"}).string.strip()\n",
    "            except:\n",
    "                price = \"\"\n",
    "\n",
    "        return price\n",
    "\n",
    "    def get_categories(self, soup, title):\n",
    "        try:\n",
    "            categories_div = soup.find(\n",
    "                \"div\", attrs={\"id\": \"wayfinding-breadcrumbs_container\"}\n",
    "            )\n",
    "            categories = categories_div.find_all(\n",
    "                \"a\", attrs={\"class\": \"a-link-normal a-color-tertiary\"}\n",
    "            )\n",
    "            category_list = [category.get_text(strip=True)\n",
    "                             for category in categories]\n",
    "        except AttributeError:\n",
    "            print(f\"Coudn't find categories for {title}\")\n",
    "            category_list = []\n",
    "        return category_list\n",
    "\n",
    "    def get_products_as_df(self) -> pd.DataFrame:\n",
    "        with open(\"filtered_elements.html\", \"r\") as f:\n",
    "            html_content = f.read()\n",
    "\n",
    "        HEADERS = {\"User-Agent\": \"\", \"Accept-Language\": \"en-US, en;q=0.5\"}\n",
    "\n",
    "        soup = BeautifulSoup(html_content, \"html.parser\")\n",
    "        product_links = soup.select(\"a.a-link-normal\")\n",
    "        amazon_base_url = \"https://www.amazon.com\"\n",
    "        products = {\"title\": [], \"price\": [], \"categories\": []}\n",
    "        for link in product_links:\n",
    "            link_url = link[\"href\"]\n",
    "            product_title = link.string\n",
    "            print(product_title)\n",
    "\n",
    "            # Prepend Amazon base URL if not present\n",
    "            if not link_url.startswith(amazon_base_url):\n",
    "                link_url = amazon_base_url + link_url\n",
    "\n",
    "            try:\n",
    "                new_webpage = requests.get(link_url, headers=HEADERS)\n",
    "                new_soup = BeautifulSoup(new_webpage.content, \"html.parser\")\n",
    "                try:\n",
    "                    products[\"title\"].append(self.get_title(new_soup))\n",
    "                    products[\"price\"].append(self.get_price(new_soup))\n",
    "                    products[\"categories\"].append(\n",
    "                        self.get_categories(new_soup, product_title))\n",
    "\n",
    "                except NoSuchElementException:\n",
    "                    print(\"Product not found. Skipping this product.\")\n",
    "                    continue\n",
    "            except:\n",
    "                print(f\"Something went wrong when scraping - skipping this product\")\n",
    "                continue\n",
    "\n",
    "        amazon_df = pd.DataFrame.from_dict(products)\n",
    "        amazon_df[\"title\"].replace(\"\", np.nan, inplace=True)\n",
    "        amazon_df = amazon_df.dropna(subset=[\"title\"])\n",
    "        amazon_df[\"price\"] = amazon_df[\"price\"].str.replace(\"$\", \"\")\n",
    "        amazon_df[\"price\"] = amazon_df[\"price\"].apply(to_float)\n",
    "        amazon_df.dropna(subset=['price'], inplace=True)\n",
    "        return amazon_df\n",
    "\n",
    "    def navigate_to_login_page(self):\n",
    "        self.driver.get(\n",
    "            \"https://www.amazon.com/ap/signin?openid.pape.max_auth_age=0&openid.return_to=https%3A%2F%2Fwww.amazon.com%2F%3Fref_%3Dnav_custrec_signin&openid.identity=http%3A%2F%2Fspecs.openid.net%2Fauth%2F2.0%2Fidentifier_select&openid.assoc_handle=usflex&openid.mode=checkid_setup&openid.claimed_id=http%3A%2F%2Fspecs.openid.net%2Fauth%2F2.0%2Fidentifier_select&openid.ns=http%3A%2F%2Fspecs.openid.net%2Fauth%2F2.0&\"\n",
    "        )\n",
    "\n",
    "    def enter_email(self):\n",
    "        email_input = self.driver.find_element(By.NAME, \"email\")\n",
    "        email_input.send_keys(self.email)\n",
    "\n",
    "    def click_continue(self):\n",
    "        self.driver.find_element(By.ID, \"continue\").click()\n",
    "\n",
    "    def enter_password(self):\n",
    "        password_input = self.driver.find_element(By.NAME, \"password\")\n",
    "        password_input.send_keys(self.password)\n",
    "\n",
    "    def click_sign_in(self):\n",
    "        self.wait_for(3)\n",
    "        self.driver.find_element(By.ID, \"signInSubmit\").click()\n",
    "        self.wait_for(3)\n",
    "\n",
    "    def click_orders(self):\n",
    "        self.driver.find_element(By.ID, \"nav-orders\").click()\n",
    "\n",
    "    def click_year_select_filter(self):\n",
    "        select_element = self.driver.find_element(By.ID, \"time-filter\")\n",
    "        select = Select(select_element)\n",
    "        select.select_by_visible_text(self.year)\n",
    "\n",
    "    def save_ordered_products(self):\n",
    "        print(\"Downloading Orders to file\")\n",
    "        elements = self.driver.find_elements(\n",
    "            By.CSS_SELECTOR, \"div.a-fixed-left-grid-col div.a-row a.a-link-normal\"\n",
    "        )\n",
    "        html_contents = [element.get_attribute(\n",
    "            \"outerHTML\") for element in elements]\n",
    "        with open(\"filtered_elements.html\", \"a\") as f:\n",
    "            for html in html_contents:\n",
    "                f.write(html + \"\\n\")\n",
    "\n",
    "    def close(self):\n",
    "        self.driver.quit()\n",
    "\n"
   ]
  },
  {
   "attachments": {},
   "cell_type": "markdown",
   "metadata": {},
   "source": [
    "This code snippet instantiates the AmazonScraper class, logs into Amazon, scrapes order data, and converts the scraped data into a DataFrame, which is then saved to a CSV file."
   ]
  },
  {
   "cell_type": "code",
   "execution_count": 35,
   "metadata": {},
   "outputs": [
    {
     "name": "stdout",
     "output_type": "stream",
     "text": [
      "Starting login process\n",
      "Entering email\n",
      "Entering password\n",
      "Sign in\n",
      "Starting to get orders\n",
      "Selecting year\n"
     ]
    },
    {
     "ename": "KeyboardInterrupt",
     "evalue": "",
     "output_type": "error",
     "traceback": [
      "\u001b[0;31m---------------------------------------------------------------------------\u001b[0m",
      "\u001b[0;31mKeyboardInterrupt\u001b[0m                         Traceback (most recent call last)",
      "Cell \u001b[0;32mIn[35], line 5\u001b[0m\n\u001b[1;32m      3\u001b[0m \u001b[39m# Sometimes amazon wants you to solve a captcha, you will need to solve it or press enter to skip \u001b[39;00m\n\u001b[1;32m      4\u001b[0m amazon\u001b[39m.\u001b[39mlogin() \n\u001b[0;32m----> 5\u001b[0m amazon\u001b[39m.\u001b[39;49mget_orders()\n\u001b[1;32m      6\u001b[0m df \u001b[39m=\u001b[39m amazon\u001b[39m.\u001b[39mget_products_as_df()\n\u001b[1;32m      7\u001b[0m df\u001b[39m.\u001b[39mto_csv(\u001b[39m\"\u001b[39m\u001b[39mamazon_data.csv\u001b[39m\u001b[39m\"\u001b[39m, header\u001b[39m=\u001b[39m\u001b[39mTrue\u001b[39;00m, index\u001b[39m=\u001b[39m\u001b[39mFalse\u001b[39;00m)\n",
      "Cell \u001b[0;32mIn[6], line 47\u001b[0m, in \u001b[0;36mAmazonScraper.get_orders\u001b[0;34m(self)\u001b[0m\n\u001b[1;32m     45\u001b[0m \u001b[39mself\u001b[39m\u001b[39m.\u001b[39msave_screenshot(\u001b[39m\"\u001b[39m\u001b[39morder_page.png\u001b[39m\u001b[39m\"\u001b[39m)\n\u001b[1;32m     46\u001b[0m \u001b[39mprint\u001b[39m(\u001b[39m\"\u001b[39m\u001b[39mSelecting year\u001b[39m\u001b[39m\"\u001b[39m)\n\u001b[0;32m---> 47\u001b[0m \u001b[39mself\u001b[39;49m\u001b[39m.\u001b[39;49mclick_year_select_filter()\n\u001b[1;32m     48\u001b[0m \u001b[39mself\u001b[39m\u001b[39m.\u001b[39mwait_for(\u001b[39m5\u001b[39m)\n\u001b[1;32m     49\u001b[0m \u001b[39mself\u001b[39m\u001b[39m.\u001b[39msave_screenshot(\u001b[39m\"\u001b[39m\u001b[39mselect_pressed.png\u001b[39m\u001b[39m\"\u001b[39m)\n",
      "Cell \u001b[0;32mIn[6], line 179\u001b[0m, in \u001b[0;36mAmazonScraper.click_year_select_filter\u001b[0;34m(self)\u001b[0m\n\u001b[1;32m    177\u001b[0m select_element \u001b[39m=\u001b[39m \u001b[39mself\u001b[39m\u001b[39m.\u001b[39mdriver\u001b[39m.\u001b[39mfind_element(By\u001b[39m.\u001b[39mID, \u001b[39m\"\u001b[39m\u001b[39mtime-filter\u001b[39m\u001b[39m\"\u001b[39m)\n\u001b[1;32m    178\u001b[0m select \u001b[39m=\u001b[39m Select(select_element)\n\u001b[0;32m--> 179\u001b[0m select\u001b[39m.\u001b[39;49mselect_by_visible_text(\u001b[39mself\u001b[39;49m\u001b[39m.\u001b[39;49myear)\n",
      "File \u001b[0;32m~/Desktop/personal_project/amazon_analysis/venv/lib/python3.11/site-packages/selenium/webdriver/support/select.py:114\u001b[0m, in \u001b[0;36mSelect.select_by_visible_text\u001b[0;34m(self, text)\u001b[0m\n\u001b[1;32m    112\u001b[0m matched \u001b[39m=\u001b[39m \u001b[39mFalse\u001b[39;00m\n\u001b[1;32m    113\u001b[0m \u001b[39mfor\u001b[39;00m opt \u001b[39min\u001b[39;00m opts:\n\u001b[0;32m--> 114\u001b[0m     \u001b[39mself\u001b[39;49m\u001b[39m.\u001b[39;49m_set_selected(opt)\n\u001b[1;32m    115\u001b[0m     \u001b[39mif\u001b[39;00m \u001b[39mnot\u001b[39;00m \u001b[39mself\u001b[39m\u001b[39m.\u001b[39mis_multiple:\n\u001b[1;32m    116\u001b[0m         \u001b[39mreturn\u001b[39;00m\n",
      "File \u001b[0;32m~/Desktop/personal_project/amazon_analysis/venv/lib/python3.11/site-packages/selenium/webdriver/support/select.py:211\u001b[0m, in \u001b[0;36mSelect._set_selected\u001b[0;34m(self, option)\u001b[0m\n\u001b[1;32m    209\u001b[0m \u001b[39mif\u001b[39;00m \u001b[39mnot\u001b[39;00m option\u001b[39m.\u001b[39mis_enabled():\n\u001b[1;32m    210\u001b[0m     \u001b[39mraise\u001b[39;00m \u001b[39mNotImplementedError\u001b[39;00m(\u001b[39m\"\u001b[39m\u001b[39mYou may not select a disabled option\u001b[39m\u001b[39m\"\u001b[39m)\n\u001b[0;32m--> 211\u001b[0m option\u001b[39m.\u001b[39;49mclick()\n",
      "File \u001b[0;32m~/Desktop/personal_project/amazon_analysis/venv/lib/python3.11/site-packages/selenium/webdriver/remote/webelement.py:94\u001b[0m, in \u001b[0;36mWebElement.click\u001b[0;34m(self)\u001b[0m\n\u001b[1;32m     92\u001b[0m \u001b[39mdef\u001b[39;00m \u001b[39mclick\u001b[39m(\u001b[39mself\u001b[39m) \u001b[39m-\u001b[39m\u001b[39m>\u001b[39m \u001b[39mNone\u001b[39;00m:\n\u001b[1;32m     93\u001b[0m \u001b[39m    \u001b[39m\u001b[39m\"\"\"Clicks the element.\"\"\"\u001b[39;00m\n\u001b[0;32m---> 94\u001b[0m     \u001b[39mself\u001b[39;49m\u001b[39m.\u001b[39;49m_execute(Command\u001b[39m.\u001b[39;49mCLICK_ELEMENT)\n",
      "File \u001b[0;32m~/Desktop/personal_project/amazon_analysis/venv/lib/python3.11/site-packages/selenium/webdriver/remote/webelement.py:403\u001b[0m, in \u001b[0;36mWebElement._execute\u001b[0;34m(self, command, params)\u001b[0m\n\u001b[1;32m    401\u001b[0m     params \u001b[39m=\u001b[39m {}\n\u001b[1;32m    402\u001b[0m params[\u001b[39m\"\u001b[39m\u001b[39mid\u001b[39m\u001b[39m\"\u001b[39m] \u001b[39m=\u001b[39m \u001b[39mself\u001b[39m\u001b[39m.\u001b[39m_id\n\u001b[0;32m--> 403\u001b[0m \u001b[39mreturn\u001b[39;00m \u001b[39mself\u001b[39;49m\u001b[39m.\u001b[39;49m_parent\u001b[39m.\u001b[39;49mexecute(command, params)\n",
      "File \u001b[0;32m~/Desktop/personal_project/amazon_analysis/venv/lib/python3.11/site-packages/selenium/webdriver/remote/webdriver.py:438\u001b[0m, in \u001b[0;36mWebDriver.execute\u001b[0;34m(self, driver_command, params)\u001b[0m\n\u001b[1;32m    435\u001b[0m     \u001b[39melif\u001b[39;00m \u001b[39m\"\u001b[39m\u001b[39msessionId\u001b[39m\u001b[39m\"\u001b[39m \u001b[39mnot\u001b[39;00m \u001b[39min\u001b[39;00m params:\n\u001b[1;32m    436\u001b[0m         params[\u001b[39m\"\u001b[39m\u001b[39msessionId\u001b[39m\u001b[39m\"\u001b[39m] \u001b[39m=\u001b[39m \u001b[39mself\u001b[39m\u001b[39m.\u001b[39msession_id\n\u001b[0;32m--> 438\u001b[0m response \u001b[39m=\u001b[39m \u001b[39mself\u001b[39;49m\u001b[39m.\u001b[39;49mcommand_executor\u001b[39m.\u001b[39;49mexecute(driver_command, params)\n\u001b[1;32m    439\u001b[0m \u001b[39mif\u001b[39;00m response:\n\u001b[1;32m    440\u001b[0m     \u001b[39mself\u001b[39m\u001b[39m.\u001b[39merror_handler\u001b[39m.\u001b[39mcheck_response(response)\n",
      "File \u001b[0;32m~/Desktop/personal_project/amazon_analysis/venv/lib/python3.11/site-packages/selenium/webdriver/remote/remote_connection.py:290\u001b[0m, in \u001b[0;36mRemoteConnection.execute\u001b[0;34m(self, command, params)\u001b[0m\n\u001b[1;32m    288\u001b[0m data \u001b[39m=\u001b[39m utils\u001b[39m.\u001b[39mdump_json(params)\n\u001b[1;32m    289\u001b[0m url \u001b[39m=\u001b[39m \u001b[39mf\u001b[39m\u001b[39m\"\u001b[39m\u001b[39m{\u001b[39;00m\u001b[39mself\u001b[39m\u001b[39m.\u001b[39m_url\u001b[39m}\u001b[39;00m\u001b[39m{\u001b[39;00mpath\u001b[39m}\u001b[39;00m\u001b[39m\"\u001b[39m\n\u001b[0;32m--> 290\u001b[0m \u001b[39mreturn\u001b[39;00m \u001b[39mself\u001b[39;49m\u001b[39m.\u001b[39;49m_request(command_info[\u001b[39m0\u001b[39;49m], url, body\u001b[39m=\u001b[39;49mdata)\n",
      "File \u001b[0;32m~/Desktop/personal_project/amazon_analysis/venv/lib/python3.11/site-packages/selenium/webdriver/remote/remote_connection.py:311\u001b[0m, in \u001b[0;36mRemoteConnection._request\u001b[0;34m(self, method, url, body)\u001b[0m\n\u001b[1;32m    308\u001b[0m     body \u001b[39m=\u001b[39m \u001b[39mNone\u001b[39;00m\n\u001b[1;32m    310\u001b[0m \u001b[39mif\u001b[39;00m \u001b[39mself\u001b[39m\u001b[39m.\u001b[39mkeep_alive:\n\u001b[0;32m--> 311\u001b[0m     response \u001b[39m=\u001b[39m \u001b[39mself\u001b[39;49m\u001b[39m.\u001b[39;49m_conn\u001b[39m.\u001b[39;49mrequest(method, url, body\u001b[39m=\u001b[39;49mbody, headers\u001b[39m=\u001b[39;49mheaders)\n\u001b[1;32m    312\u001b[0m     statuscode \u001b[39m=\u001b[39m response\u001b[39m.\u001b[39mstatus\n\u001b[1;32m    313\u001b[0m \u001b[39melse\u001b[39;00m:\n",
      "File \u001b[0;32m~/Desktop/personal_project/amazon_analysis/venv/lib/python3.11/site-packages/urllib3/_request_methods.py:118\u001b[0m, in \u001b[0;36mRequestMethods.request\u001b[0;34m(self, method, url, body, fields, headers, json, **urlopen_kw)\u001b[0m\n\u001b[1;32m    110\u001b[0m     \u001b[39mreturn\u001b[39;00m \u001b[39mself\u001b[39m\u001b[39m.\u001b[39mrequest_encode_url(\n\u001b[1;32m    111\u001b[0m         method,\n\u001b[1;32m    112\u001b[0m         url,\n\u001b[0;32m   (...)\u001b[0m\n\u001b[1;32m    115\u001b[0m         \u001b[39m*\u001b[39m\u001b[39m*\u001b[39murlopen_kw,\n\u001b[1;32m    116\u001b[0m     )\n\u001b[1;32m    117\u001b[0m \u001b[39melse\u001b[39;00m:\n\u001b[0;32m--> 118\u001b[0m     \u001b[39mreturn\u001b[39;00m \u001b[39mself\u001b[39;49m\u001b[39m.\u001b[39;49mrequest_encode_body(\n\u001b[1;32m    119\u001b[0m         method, url, fields\u001b[39m=\u001b[39;49mfields, headers\u001b[39m=\u001b[39;49mheaders, \u001b[39m*\u001b[39;49m\u001b[39m*\u001b[39;49murlopen_kw\n\u001b[1;32m    120\u001b[0m     )\n",
      "File \u001b[0;32m~/Desktop/personal_project/amazon_analysis/venv/lib/python3.11/site-packages/urllib3/_request_methods.py:217\u001b[0m, in \u001b[0;36mRequestMethods.request_encode_body\u001b[0;34m(self, method, url, fields, headers, encode_multipart, multipart_boundary, **urlopen_kw)\u001b[0m\n\u001b[1;32m    213\u001b[0m     extra_kw[\u001b[39m\"\u001b[39m\u001b[39mheaders\u001b[39m\u001b[39m\"\u001b[39m]\u001b[39m.\u001b[39msetdefault(\u001b[39m\"\u001b[39m\u001b[39mContent-Type\u001b[39m\u001b[39m\"\u001b[39m, content_type)\n\u001b[1;32m    215\u001b[0m extra_kw\u001b[39m.\u001b[39mupdate(urlopen_kw)\n\u001b[0;32m--> 217\u001b[0m \u001b[39mreturn\u001b[39;00m \u001b[39mself\u001b[39;49m\u001b[39m.\u001b[39;49murlopen(method, url, \u001b[39m*\u001b[39;49m\u001b[39m*\u001b[39;49mextra_kw)\n",
      "File \u001b[0;32m~/Desktop/personal_project/amazon_analysis/venv/lib/python3.11/site-packages/urllib3/poolmanager.py:433\u001b[0m, in \u001b[0;36mPoolManager.urlopen\u001b[0;34m(self, method, url, redirect, **kw)\u001b[0m\n\u001b[1;32m    431\u001b[0m     response \u001b[39m=\u001b[39m conn\u001b[39m.\u001b[39murlopen(method, url, \u001b[39m*\u001b[39m\u001b[39m*\u001b[39mkw)\n\u001b[1;32m    432\u001b[0m \u001b[39melse\u001b[39;00m:\n\u001b[0;32m--> 433\u001b[0m     response \u001b[39m=\u001b[39m conn\u001b[39m.\u001b[39;49murlopen(method, u\u001b[39m.\u001b[39;49mrequest_uri, \u001b[39m*\u001b[39;49m\u001b[39m*\u001b[39;49mkw)\n\u001b[1;32m    435\u001b[0m redirect_location \u001b[39m=\u001b[39m redirect \u001b[39mand\u001b[39;00m response\u001b[39m.\u001b[39mget_redirect_location()\n\u001b[1;32m    436\u001b[0m \u001b[39mif\u001b[39;00m \u001b[39mnot\u001b[39;00m redirect_location:\n",
      "File \u001b[0;32m~/Desktop/personal_project/amazon_analysis/venv/lib/python3.11/site-packages/urllib3/connectionpool.py:790\u001b[0m, in \u001b[0;36mHTTPConnectionPool.urlopen\u001b[0;34m(self, method, url, body, headers, retries, redirect, assert_same_host, timeout, pool_timeout, release_conn, chunked, body_pos, preload_content, decode_content, **response_kw)\u001b[0m\n\u001b[1;32m    787\u001b[0m response_conn \u001b[39m=\u001b[39m conn \u001b[39mif\u001b[39;00m \u001b[39mnot\u001b[39;00m release_conn \u001b[39melse\u001b[39;00m \u001b[39mNone\u001b[39;00m\n\u001b[1;32m    789\u001b[0m \u001b[39m# Make the request on the HTTPConnection object\u001b[39;00m\n\u001b[0;32m--> 790\u001b[0m response \u001b[39m=\u001b[39m \u001b[39mself\u001b[39;49m\u001b[39m.\u001b[39;49m_make_request(\n\u001b[1;32m    791\u001b[0m     conn,\n\u001b[1;32m    792\u001b[0m     method,\n\u001b[1;32m    793\u001b[0m     url,\n\u001b[1;32m    794\u001b[0m     timeout\u001b[39m=\u001b[39;49mtimeout_obj,\n\u001b[1;32m    795\u001b[0m     body\u001b[39m=\u001b[39;49mbody,\n\u001b[1;32m    796\u001b[0m     headers\u001b[39m=\u001b[39;49mheaders,\n\u001b[1;32m    797\u001b[0m     chunked\u001b[39m=\u001b[39;49mchunked,\n\u001b[1;32m    798\u001b[0m     retries\u001b[39m=\u001b[39;49mretries,\n\u001b[1;32m    799\u001b[0m     response_conn\u001b[39m=\u001b[39;49mresponse_conn,\n\u001b[1;32m    800\u001b[0m     preload_content\u001b[39m=\u001b[39;49mpreload_content,\n\u001b[1;32m    801\u001b[0m     decode_content\u001b[39m=\u001b[39;49mdecode_content,\n\u001b[1;32m    802\u001b[0m     \u001b[39m*\u001b[39;49m\u001b[39m*\u001b[39;49mresponse_kw,\n\u001b[1;32m    803\u001b[0m )\n\u001b[1;32m    805\u001b[0m \u001b[39m# Everything went great!\u001b[39;00m\n\u001b[1;32m    806\u001b[0m clean_exit \u001b[39m=\u001b[39m \u001b[39mTrue\u001b[39;00m\n",
      "File \u001b[0;32m~/Desktop/personal_project/amazon_analysis/venv/lib/python3.11/site-packages/urllib3/connectionpool.py:536\u001b[0m, in \u001b[0;36mHTTPConnectionPool._make_request\u001b[0;34m(self, conn, method, url, body, headers, retries, timeout, chunked, response_conn, preload_content, decode_content, enforce_content_length)\u001b[0m\n\u001b[1;32m    534\u001b[0m \u001b[39m# Receive the response from the server\u001b[39;00m\n\u001b[1;32m    535\u001b[0m \u001b[39mtry\u001b[39;00m:\n\u001b[0;32m--> 536\u001b[0m     response \u001b[39m=\u001b[39m conn\u001b[39m.\u001b[39;49mgetresponse()\n\u001b[1;32m    537\u001b[0m \u001b[39mexcept\u001b[39;00m (BaseSSLError, \u001b[39mOSError\u001b[39;00m) \u001b[39mas\u001b[39;00m e:\n\u001b[1;32m    538\u001b[0m     \u001b[39mself\u001b[39m\u001b[39m.\u001b[39m_raise_timeout(err\u001b[39m=\u001b[39me, url\u001b[39m=\u001b[39murl, timeout_value\u001b[39m=\u001b[39mread_timeout)\n",
      "File \u001b[0;32m~/Desktop/personal_project/amazon_analysis/venv/lib/python3.11/site-packages/urllib3/connection.py:454\u001b[0m, in \u001b[0;36mHTTPConnection.getresponse\u001b[0;34m(self)\u001b[0m\n\u001b[1;32m    451\u001b[0m \u001b[39mfrom\u001b[39;00m \u001b[39m.\u001b[39;00m\u001b[39mresponse\u001b[39;00m \u001b[39mimport\u001b[39;00m HTTPResponse\n\u001b[1;32m    453\u001b[0m \u001b[39m# Get the response from http.client.HTTPConnection\u001b[39;00m\n\u001b[0;32m--> 454\u001b[0m httplib_response \u001b[39m=\u001b[39m \u001b[39msuper\u001b[39;49m()\u001b[39m.\u001b[39;49mgetresponse()\n\u001b[1;32m    456\u001b[0m \u001b[39mtry\u001b[39;00m:\n\u001b[1;32m    457\u001b[0m     assert_header_parsing(httplib_response\u001b[39m.\u001b[39mmsg)\n",
      "File \u001b[0;32m/opt/homebrew/Cellar/python@3.11/3.11.2_1/Frameworks/Python.framework/Versions/3.11/lib/python3.11/http/client.py:1374\u001b[0m, in \u001b[0;36mHTTPConnection.getresponse\u001b[0;34m(self)\u001b[0m\n\u001b[1;32m   1372\u001b[0m \u001b[39mtry\u001b[39;00m:\n\u001b[1;32m   1373\u001b[0m     \u001b[39mtry\u001b[39;00m:\n\u001b[0;32m-> 1374\u001b[0m         response\u001b[39m.\u001b[39;49mbegin()\n\u001b[1;32m   1375\u001b[0m     \u001b[39mexcept\u001b[39;00m \u001b[39mConnectionError\u001b[39;00m:\n\u001b[1;32m   1376\u001b[0m         \u001b[39mself\u001b[39m\u001b[39m.\u001b[39mclose()\n",
      "File \u001b[0;32m/opt/homebrew/Cellar/python@3.11/3.11.2_1/Frameworks/Python.framework/Versions/3.11/lib/python3.11/http/client.py:318\u001b[0m, in \u001b[0;36mHTTPResponse.begin\u001b[0;34m(self)\u001b[0m\n\u001b[1;32m    316\u001b[0m \u001b[39m# read until we get a non-100 response\u001b[39;00m\n\u001b[1;32m    317\u001b[0m \u001b[39mwhile\u001b[39;00m \u001b[39mTrue\u001b[39;00m:\n\u001b[0;32m--> 318\u001b[0m     version, status, reason \u001b[39m=\u001b[39m \u001b[39mself\u001b[39;49m\u001b[39m.\u001b[39;49m_read_status()\n\u001b[1;32m    319\u001b[0m     \u001b[39mif\u001b[39;00m status \u001b[39m!=\u001b[39m CONTINUE:\n\u001b[1;32m    320\u001b[0m         \u001b[39mbreak\u001b[39;00m\n",
      "File \u001b[0;32m/opt/homebrew/Cellar/python@3.11/3.11.2_1/Frameworks/Python.framework/Versions/3.11/lib/python3.11/http/client.py:279\u001b[0m, in \u001b[0;36mHTTPResponse._read_status\u001b[0;34m(self)\u001b[0m\n\u001b[1;32m    278\u001b[0m \u001b[39mdef\u001b[39;00m \u001b[39m_read_status\u001b[39m(\u001b[39mself\u001b[39m):\n\u001b[0;32m--> 279\u001b[0m     line \u001b[39m=\u001b[39m \u001b[39mstr\u001b[39m(\u001b[39mself\u001b[39m\u001b[39m.\u001b[39mfp\u001b[39m.\u001b[39mreadline(_MAXLINE \u001b[39m+\u001b[39m \u001b[39m1\u001b[39m), \u001b[39m\"\u001b[39m\u001b[39miso-8859-1\u001b[39m\u001b[39m\"\u001b[39m)\n\u001b[1;32m    280\u001b[0m     \u001b[39mif\u001b[39;00m \u001b[39mlen\u001b[39m(line) \u001b[39m>\u001b[39m _MAXLINE:\n\u001b[1;32m    281\u001b[0m         \u001b[39mraise\u001b[39;00m LineTooLong(\u001b[39m\"\u001b[39m\u001b[39mstatus line\u001b[39m\u001b[39m\"\u001b[39m)\n",
      "File \u001b[0;32m/opt/homebrew/Cellar/python@3.11/3.11.2_1/Frameworks/Python.framework/Versions/3.11/lib/python3.11/socket.py:706\u001b[0m, in \u001b[0;36mSocketIO.readinto\u001b[0;34m(self, b)\u001b[0m\n\u001b[1;32m    704\u001b[0m \u001b[39mwhile\u001b[39;00m \u001b[39mTrue\u001b[39;00m:\n\u001b[1;32m    705\u001b[0m     \u001b[39mtry\u001b[39;00m:\n\u001b[0;32m--> 706\u001b[0m         \u001b[39mreturn\u001b[39;00m \u001b[39mself\u001b[39;49m\u001b[39m.\u001b[39;49m_sock\u001b[39m.\u001b[39;49mrecv_into(b)\n\u001b[1;32m    707\u001b[0m     \u001b[39mexcept\u001b[39;00m timeout:\n\u001b[1;32m    708\u001b[0m         \u001b[39mself\u001b[39m\u001b[39m.\u001b[39m_timeout_occurred \u001b[39m=\u001b[39m \u001b[39mTrue\u001b[39;00m\n",
      "\u001b[0;31mKeyboardInterrupt\u001b[0m: "
     ]
    }
   ],
   "source": [
    "amazon = AmazonScraper(email, password, year, option) # variables you set up in the first cell\n",
    "\n",
    "# Sometimes amazon wants you to solve a captcha, you will need to solve it or press enter to skip \n",
    "amazon.login() \n",
    "amazon.get_orders()\n",
    "df = amazon.get_products_as_df()\n",
    "df.to_csv(\"amazon_data.csv\", header=True, index=False)"
   ]
  },
  {
   "attachments": {},
   "cell_type": "markdown",
   "metadata": {},
   "source": [
    "Install dependecies to enable sql interface in Jupyter notebook"
   ]
  },
  {
   "cell_type": "code",
   "execution_count": null,
   "metadata": {},
   "outputs": [],
   "source": [
    "%pip install jupysql duckdb-engine --quiet"
   ]
  },
  {
   "cell_type": "code",
   "execution_count": 10,
   "metadata": {},
   "outputs": [],
   "source": [
    "%load_ext sql "
   ]
  },
  {
   "cell_type": "code",
   "execution_count": 11,
   "metadata": {},
   "outputs": [],
   "source": [
    "%sql duckdb://"
   ]
  },
  {
   "attachments": {},
   "cell_type": "markdown",
   "metadata": {},
   "source": [
    "\n",
    "Load the data into a table "
   ]
  },
  {
   "cell_type": "code",
   "execution_count": 24,
   "metadata": {},
   "outputs": [
    {
     "data": {
      "text/html": [
       "<span style=\"None\">Running query in &#x27;duckdb://&#x27;</span>"
      ],
      "text/plain": [
       "Running query in 'duckdb://'"
      ]
     },
     "metadata": {},
     "output_type": "display_data"
    },
    {
     "data": {
      "text/html": [
       "<table>\n",
       "    <thead>\n",
       "        <tr>\n",
       "            <th>Count</th>\n",
       "        </tr>\n",
       "    </thead>\n",
       "    <tbody>\n",
       "        <tr>\n",
       "            <td>96</td>\n",
       "        </tr>\n",
       "    </tbody>\n",
       "</table>"
      ],
      "text/plain": [
       "+-------+\n",
       "| Count |\n",
       "+-------+\n",
       "|   96  |\n",
       "+-------+"
      ]
     },
     "execution_count": 24,
     "metadata": {},
     "output_type": "execute_result"
    }
   ],
   "source": [
    "%%sql\n",
    "create or replace table amazon_data as (\n",
    "select title,price,cast(categories as varchar[]) as categories from read_csv_auto('amazon_data.csv')\n",
    ")\n",
    "\n"
   ]
  },
  {
   "cell_type": "code",
   "execution_count": 37,
   "metadata": {},
   "outputs": [
    {
     "name": "stdout",
     "output_type": "stream",
     "text": [
      "displaylimit: Value None will be treated as 0 (no limit)\n"
     ]
    }
   ],
   "source": [
    "%config SqlMagic.displaylimit = None"
   ]
  },
  {
   "cell_type": "code",
   "execution_count": 38,
   "metadata": {},
   "outputs": [
    {
     "data": {
      "text/html": [
       "<span style=\"None\">Running query in &#x27;duckdb://&#x27;</span>"
      ],
      "text/plain": [
       "Running query in 'duckdb://'"
      ]
     },
     "metadata": {},
     "output_type": "display_data"
    },
    {
     "data": {
      "text/html": [
       "<table>\n",
       "    <thead>\n",
       "        <tr>\n",
       "            <th>category</th>\n",
       "            <th>spend</th>\n",
       "        </tr>\n",
       "    </thead>\n",
       "    <tbody>\n",
       "        <tr>\n",
       "            <td>'Home & Kitchen'</td>\n",
       "            <td>712.19</td>\n",
       "        </tr>\n",
       "        <tr>\n",
       "            <td>'Electronics'</td>\n",
       "            <td>420.35</td>\n",
       "        </tr>\n",
       "        <tr>\n",
       "            <td>'Clothing, Shoes & Jewelry'</td>\n",
       "            <td>264.9</td>\n",
       "        </tr>\n",
       "        <tr>\n",
       "            <td>'Baby Products'</td>\n",
       "            <td>244.67</td>\n",
       "        </tr>\n",
       "        <tr>\n",
       "            <td>'Patio, Lawn & Garden'</td>\n",
       "            <td>232.37</td>\n",
       "        </tr>\n",
       "        <tr>\n",
       "            <td>'Health & Household'</td>\n",
       "            <td>160.34</td>\n",
       "        </tr>\n",
       "        <tr>\n",
       "            <td>'Tools & Home Improvement'</td>\n",
       "            <td>148.54</td>\n",
       "        </tr>\n",
       "        <tr>\n",
       "            <td>'Sports & Outdoors'</td>\n",
       "            <td>64.8</td>\n",
       "        </tr>\n",
       "        <tr>\n",
       "            <td>'Cell Phones & Accessories'</td>\n",
       "            <td>47.97</td>\n",
       "        </tr>\n",
       "        <tr>\n",
       "            <td>'Books'</td>\n",
       "            <td>45.59</td>\n",
       "        </tr>\n",
       "        <tr>\n",
       "            <td>'Grocery & Gourmet Food'</td>\n",
       "            <td>44.07</td>\n",
       "        </tr>\n",
       "        <tr>\n",
       "            <td>'Beauty & Personal Care'</td>\n",
       "            <td>39.01</td>\n",
       "        </tr>\n",
       "        <tr>\n",
       "            <td>'Pet Supplies'</td>\n",
       "            <td>28.12</td>\n",
       "        </tr>\n",
       "        <tr>\n",
       "            <td>'Industrial & Scientific'</td>\n",
       "            <td>25.4</td>\n",
       "        </tr>\n",
       "        <tr>\n",
       "            <td>'Office Products'</td>\n",
       "            <td>23.98</td>\n",
       "        </tr>\n",
       "    </tbody>\n",
       "</table>"
      ],
      "text/plain": [
       "+-----------------------------+--------+\n",
       "|           category          | spend  |\n",
       "+-----------------------------+--------+\n",
       "|       'Home & Kitchen'      | 712.19 |\n",
       "|        'Electronics'        | 420.35 |\n",
       "| 'Clothing, Shoes & Jewelry' | 264.9  |\n",
       "|       'Baby Products'       | 244.67 |\n",
       "|    'Patio, Lawn & Garden'   | 232.37 |\n",
       "|     'Health & Household'    | 160.34 |\n",
       "|  'Tools & Home Improvement' | 148.54 |\n",
       "|     'Sports & Outdoors'     |  64.8  |\n",
       "| 'Cell Phones & Accessories' | 47.97  |\n",
       "|           'Books'           | 45.59  |\n",
       "|   'Grocery & Gourmet Food'  | 44.07  |\n",
       "|   'Beauty & Personal Care'  | 39.01  |\n",
       "|        'Pet Supplies'       | 28.12  |\n",
       "|  'Industrial & Scientific'  |  25.4  |\n",
       "|      'Office Products'      | 23.98  |\n",
       "+-----------------------------+--------+"
      ]
     },
     "execution_count": 38,
     "metadata": {},
     "output_type": "execute_result"
    }
   ],
   "source": [
    "%%sql\n",
    "select categories[1] as category, round(sum(price),2) as spend\n",
    "from amazon_data \n",
    "group by category\n",
    "order by spend desc "
   ]
  },
  {
   "cell_type": "code",
   "execution_count": 39,
   "metadata": {},
   "outputs": [
    {
     "data": {
      "text/html": [
       "<span style=\"None\">Running query in &#x27;duckdb://&#x27;</span>"
      ],
      "text/plain": [
       "Running query in 'duckdb://'"
      ]
     },
     "metadata": {},
     "output_type": "display_data"
    },
    {
     "data": {
      "text/html": [
       "<table>\n",
       "    <thead>\n",
       "        <tr>\n",
       "            <th>category</th>\n",
       "            <th>spend</th>\n",
       "        </tr>\n",
       "    </thead>\n",
       "    <tbody>\n",
       "        <tr>\n",
       "            <td>'Furniture'</td>\n",
       "            <td>259.98</td>\n",
       "        </tr>\n",
       "        <tr>\n",
       "            <td>'Home Décor Products'</td>\n",
       "            <td>146.95</td>\n",
       "        </tr>\n",
       "        <tr>\n",
       "            <td>'Storage & Organization'</td>\n",
       "            <td>115.99</td>\n",
       "        </tr>\n",
       "        <tr>\n",
       "            <td>'Kitchen & Dining'</td>\n",
       "            <td>65.88</td>\n",
       "        </tr>\n",
       "        <tr>\n",
       "            <td>'Bedding'</td>\n",
       "            <td>52.99</td>\n",
       "        </tr>\n",
       "        <tr>\n",
       "            <td>'Bath'</td>\n",
       "            <td>43.42</td>\n",
       "        </tr>\n",
       "        <tr>\n",
       "            <td>'Event & Party Supplies'</td>\n",
       "            <td>26.98</td>\n",
       "        </tr>\n",
       "    </tbody>\n",
       "</table>"
      ],
      "text/plain": [
       "+--------------------------+--------+\n",
       "|         category         | spend  |\n",
       "+--------------------------+--------+\n",
       "|       'Furniture'        | 259.98 |\n",
       "|  'Home Décor Products'   | 146.95 |\n",
       "| 'Storage & Organization' | 115.99 |\n",
       "|    'Kitchen & Dining'    | 65.88  |\n",
       "|        'Bedding'         | 52.99  |\n",
       "|          'Bath'          | 43.42  |\n",
       "| 'Event & Party Supplies' | 26.98  |\n",
       "+--------------------------+--------+"
      ]
     },
     "execution_count": 39,
     "metadata": {},
     "output_type": "execute_result"
    }
   ],
   "source": [
    "%%sql\n",
    "select categories[2] as category, round(sum(price),2) as spend\n",
    "from amazon_data \n",
    "where categories[1] = '''Home & Kitchen'''\n",
    "group by category\n",
    "order by spend desc "
   ]
  },
  {
   "cell_type": "code",
   "execution_count": 41,
   "metadata": {},
   "outputs": [
    {
     "data": {
      "text/html": [
       "<span style=\"None\">Running query in &#x27;duckdb://&#x27;</span>"
      ],
      "text/plain": [
       "Running query in 'duckdb://'"
      ]
     },
     "metadata": {},
     "output_type": "display_data"
    },
    {
     "data": {
      "text/html": [
       "<table>\n",
       "    <thead>\n",
       "        <tr>\n",
       "            <th>category</th>\n",
       "            <th>sub_category</th>\n",
       "            <th>spend</th>\n",
       "        </tr>\n",
       "    </thead>\n",
       "    <tbody>\n",
       "        <tr>\n",
       "            <td>'Furniture'</td>\n",
       "            <td>'Game & Recreation Room Furniture'</td>\n",
       "            <td>159.99</td>\n",
       "        </tr>\n",
       "        <tr>\n",
       "            <td>'Furniture'</td>\n",
       "            <td>'Bedroom Furniture'</td>\n",
       "            <td>99.99</td>\n",
       "        </tr>\n",
       "        <tr>\n",
       "            <td>'Storage & Organization'</td>\n",
       "            <td>'Racks, Shelves & Drawers'</td>\n",
       "            <td>66.99</td>\n",
       "        </tr>\n",
       "        <tr>\n",
       "            <td>'Bedding'</td>\n",
       "            <td>'Quilts & Sets'</td>\n",
       "            <td>52.99</td>\n",
       "        </tr>\n",
       "        <tr>\n",
       "            <td>'Storage & Organization'</td>\n",
       "            <td>'Clothing & Closet Storage'</td>\n",
       "            <td>49.0</td>\n",
       "        </tr>\n",
       "        <tr>\n",
       "            <td>'Home Décor Products'</td>\n",
       "            <td>'Home Décor Accents'</td>\n",
       "            <td>44.98</td>\n",
       "        </tr>\n",
       "        <tr>\n",
       "            <td>'Home Décor Products'</td>\n",
       "            <td>'Clocks'</td>\n",
       "            <td>42.99</td>\n",
       "        </tr>\n",
       "        <tr>\n",
       "            <td>'Kitchen & Dining'</td>\n",
       "            <td>'Storage & Organization'</td>\n",
       "            <td>35.4</td>\n",
       "        </tr>\n",
       "        <tr>\n",
       "            <td>'Home Décor Products'</td>\n",
       "            <td>'Window Treatments'</td>\n",
       "            <td>34.99</td>\n",
       "        </tr>\n",
       "        <tr>\n",
       "            <td>'Bath'</td>\n",
       "            <td>'Bath Rugs'</td>\n",
       "            <td>25.99</td>\n",
       "        </tr>\n",
       "        <tr>\n",
       "            <td>'Home Décor Products'</td>\n",
       "            <td>'Candles & Holders'</td>\n",
       "            <td>23.99</td>\n",
       "        </tr>\n",
       "        <tr>\n",
       "            <td>'Kitchen & Dining'</td>\n",
       "            <td>'Small Appliances'</td>\n",
       "            <td>21.99</td>\n",
       "        </tr>\n",
       "        <tr>\n",
       "            <td>'Bath'</td>\n",
       "            <td>'Bathroom Accessories'</td>\n",
       "            <td>17.43</td>\n",
       "        </tr>\n",
       "        <tr>\n",
       "            <td>'Event & Party Supplies'</td>\n",
       "            <td>'Decorations'</td>\n",
       "            <td>13.99</td>\n",
       "        </tr>\n",
       "        <tr>\n",
       "            <td>'Event & Party Supplies'</td>\n",
       "            <td>'Party Games & Activities'</td>\n",
       "            <td>12.99</td>\n",
       "        </tr>\n",
       "        <tr>\n",
       "            <td>'Kitchen & Dining'</td>\n",
       "            <td>'Dining & Entertaining'</td>\n",
       "            <td>8.49</td>\n",
       "        </tr>\n",
       "    </tbody>\n",
       "</table>"
      ],
      "text/plain": [
       "+--------------------------+------------------------------------+--------+\n",
       "|         category         |            sub_category            | spend  |\n",
       "+--------------------------+------------------------------------+--------+\n",
       "|       'Furniture'        | 'Game & Recreation Room Furniture' | 159.99 |\n",
       "|       'Furniture'        |        'Bedroom Furniture'         | 99.99  |\n",
       "| 'Storage & Organization' |     'Racks, Shelves & Drawers'     | 66.99  |\n",
       "|        'Bedding'         |          'Quilts & Sets'           | 52.99  |\n",
       "| 'Storage & Organization' |    'Clothing & Closet Storage'     |  49.0  |\n",
       "|  'Home Décor Products'   |        'Home Décor Accents'        | 44.98  |\n",
       "|  'Home Décor Products'   |              'Clocks'              | 42.99  |\n",
       "|    'Kitchen & Dining'    |      'Storage & Organization'      |  35.4  |\n",
       "|  'Home Décor Products'   |        'Window Treatments'         | 34.99  |\n",
       "|          'Bath'          |            'Bath Rugs'             | 25.99  |\n",
       "|  'Home Décor Products'   |        'Candles & Holders'         | 23.99  |\n",
       "|    'Kitchen & Dining'    |         'Small Appliances'         | 21.99  |\n",
       "|          'Bath'          |       'Bathroom Accessories'       | 17.43  |\n",
       "| 'Event & Party Supplies' |           'Decorations'            | 13.99  |\n",
       "| 'Event & Party Supplies' |     'Party Games & Activities'     | 12.99  |\n",
       "|    'Kitchen & Dining'    |      'Dining & Entertaining'       |  8.49  |\n",
       "+--------------------------+------------------------------------+--------+"
      ]
     },
     "execution_count": 41,
     "metadata": {},
     "output_type": "execute_result"
    }
   ],
   "source": [
    "%%sql\n",
    "select categories[2] as category, categories[3] as sub_category, round(sum(price),2) as spend\n",
    "from amazon_data \n",
    "where categories[1] = '''Home & Kitchen'''\n",
    "group by category, sub_category\n",
    "order by spend desc "
   ]
  }
 ],
 "metadata": {
  "kernelspec": {
   "display_name": "venv",
   "language": "python",
   "name": "python3"
  },
  "language_info": {
   "codemirror_mode": {
    "name": "ipython",
    "version": 3
   },
   "file_extension": ".py",
   "mimetype": "text/x-python",
   "name": "python",
   "nbconvert_exporter": "python",
   "pygments_lexer": "ipython3",
   "version": "3.11.2"
  },
  "orig_nbformat": 4
 },
 "nbformat": 4,
 "nbformat_minor": 2
}
